{
 "cells": [
  {
   "cell_type": "markdown",
   "id": "bc45ff0c-69a4-4c79-a072-5edff62e278e",
   "metadata": {},
   "source": [
    "# Uncertainty in Autonomous Systems\n",
    "Testing uncertainty in autonomous systems using the Carla simulator."
   ]
  },
  {
   "cell_type": "markdown",
   "id": "4d595faf-d988-417f-bb42-e43a782839d1",
   "metadata": {},
   "source": [
    "## Connect to Carla server"
   ]
  },
  {
   "cell_type": "code",
   "execution_count": 15,
   "id": "8276e6e8-7a79-4241-8b1a-310adc0b3f00",
   "metadata": {},
   "outputs": [],
   "source": [
    "import carla\n",
    "import random\n",
    "import time"
   ]
  },
  {
   "cell_type": "code",
   "execution_count": 3,
   "id": "1f8b7d9a-31ac-4c0a-9677-c217dffcf6b1",
   "metadata": {},
   "outputs": [],
   "source": [
    "# Connect to the Carla server.\n",
    "client = carla.Client('localhost', 2000)"
   ]
  },
  {
   "cell_type": "markdown",
   "id": "e24de544-ebb1-43f9-be98-ac54c50b5b0c",
   "metadata": {},
   "source": [
    "## Simulation settings"
   ]
  },
  {
   "cell_type": "markdown",
   "id": "619bf5b3-f264-4f10-ab5b-e0945677bb9d",
   "metadata": {},
   "source": [
    "## Manipulate environment"
   ]
  },
  {
   "cell_type": "code",
   "execution_count": 4,
   "id": "f7d82cad-5d37-4a2e-8e05-48f914852308",
   "metadata": {},
   "outputs": [
    {
     "data": {
      "text/plain": [
       "<carla.libcarla.World at 0x27dde244ec0>"
      ]
     },
     "execution_count": 4,
     "metadata": {},
     "output_type": "execute_result"
    }
   ],
   "source": [
    "client.load_world('Town02')"
   ]
  },
  {
   "cell_type": "code",
   "execution_count": 82,
   "id": "a4cfacd7-9dfc-4108-9f0d-a43af39b31fe",
   "metadata": {},
   "outputs": [
    {
     "ename": "RuntimeError",
     "evalue": "time-out of 5000ms while waiting for the simulator, make sure the simulator is ready and connected to localhost:2000",
     "output_type": "error",
     "traceback": [
      "\u001b[1;31m---------------------------------------------------------------------------\u001b[0m",
      "\u001b[1;31mRuntimeError\u001b[0m                              Traceback (most recent call last)",
      "Cell \u001b[1;32mIn[82], line 1\u001b[0m\n\u001b[1;32m----> 1\u001b[0m \u001b[43mclient\u001b[49m\u001b[38;5;241;43m.\u001b[39;49m\u001b[43mreload_world\u001b[49m\u001b[43m(\u001b[49m\u001b[43m)\u001b[49m\n",
      "\u001b[1;31mRuntimeError\u001b[0m: time-out of 5000ms while waiting for the simulator, make sure the simulator is ready and connected to localhost:2000"
     ]
    }
   ],
   "source": [
    "client.reload_world()"
   ]
  },
  {
   "cell_type": "code",
   "execution_count": 83,
   "id": "c537b7d9-b198-41d3-88ab-cc9aa6318ec1",
   "metadata": {},
   "outputs": [
    {
     "data": {
      "text/plain": [
       "12106"
      ]
     },
     "execution_count": 83,
     "metadata": {},
     "output_type": "execute_result"
    }
   ],
   "source": [
    "# Change simulation settings on the server\n",
    "world = client.get_world()\n",
    "settings = world.get_settings()\n",
    "\n",
    "# Enable synchronous mode to have the server only update on client's ticks.\n",
    "settings.synchronous_mode = True\n",
    "\n",
    "# Fixed simulation time step should be used with synchronous mode\n",
    "settings.substepping = True\n",
    "settings.max_substep_delta_time = 0.01\n",
    "settings.max_substeps = 10\n",
    "settings.fixed_delta_seconds = settings.max_substep_delta_time * settings.max_substeps\n",
    "\n",
    "world.apply_settings(settings)"
   ]
  },
  {
   "cell_type": "code",
   "execution_count": 200,
   "id": "86152207-019c-42f4-ac37-04ad5e105832",
   "metadata": {},
   "outputs": [
    {
     "data": {
      "text/plain": [
       "12221"
      ]
     },
     "execution_count": 200,
     "metadata": {},
     "output_type": "execute_result"
    }
   ],
   "source": [
    "world.tick()"
   ]
  },
  {
   "cell_type": "code",
   "execution_count": 195,
   "id": "d915c431-7bbe-40d3-acdc-2aaa3f2a7fc0",
   "metadata": {},
   "outputs": [
    {
     "name": "stdout",
     "output_type": "stream",
     "text": [
      "Location(x=108.279999, y=307.859985, z=4.310000) Rotation(pitch=-2.453670, yaw=-2.391845, roll=0.000000)\n"
     ]
    }
   ],
   "source": [
    "# Retrieve the spectator object\n",
    "spectator = world.get_spectator()\n",
    "\n",
    "# Get the location and rotation of the spectator through its transform\n",
    "transform = spectator.get_transform()\n",
    "\n",
    "location = transform.location\n",
    "rotation = transform.rotation\n",
    "print(location, rotation)\n",
    "\n",
    "# Set the spectator with an initial transform\n",
    "spectator.set_transform(carla.Transform(carla.Location(x=95, y=306.5, z=4.3), carla.Rotation(pitch=-15, yaw=2.5)))"
   ]
  },
  {
   "cell_type": "markdown",
   "id": "bda74794-5711-4779-b926-07d9f7a99464",
   "metadata": {},
   "source": [
    "## Add actors"
   ]
  },
  {
   "cell_type": "code",
   "execution_count": 196,
   "id": "aca9e092-3af4-4bb8-94c6-e5fba30bd4a6",
   "metadata": {},
   "outputs": [
    {
     "name": "stdout",
     "output_type": "stream",
     "text": [
      "ActorBlueprint(id=vehicle.audi.a2,tags=[vehicle, audi, a2])\n",
      "ActorBlueprint(id=vehicle.nissan.micra,tags=[vehicle, nissan, micra])\n",
      "ActorBlueprint(id=vehicle.audi.tt,tags=[vehicle, audi, tt])\n",
      "ActorBlueprint(id=vehicle.mercedes.coupe_2020,tags=[vehicle, mercedes, coupe_2020])\n",
      "ActorBlueprint(id=vehicle.bmw.grandtourer,tags=[vehicle, bmw, grandtourer])\n"
     ]
    }
   ],
   "source": [
    "# Get the blueprint library and filter for the vehicle blueprints\n",
    "vehicle_blueprints = world.get_blueprint_library().filter('*vehicle*')\n",
    "\n",
    "# Show a few examples from the list\n",
    "print(*list(vehicle_blueprints)[0:5], sep='\\n')"
   ]
  },
  {
   "cell_type": "code",
   "execution_count": 197,
   "id": "2615b126-8a86-41d0-a029-0adbd9caad7c",
   "metadata": {},
   "outputs": [
    {
     "name": "stdout",
     "output_type": "stream",
     "text": [
      "Actor(id=399, type=vehicle.audi.etron)\n"
     ]
    }
   ],
   "source": [
    "# Add the ego vehicle, which will be the centerpoint of the simulation\n",
    "ego_vehicle_bp = world.get_blueprint_library().find('vehicle.audi.etron')\n",
    "ego_vehicle_bp.set_attribute('role_name', 'hero')\n",
    "ego_vehicle = world.spawn_actor(ego_vehicle_bp, carla.Transform(carla.Location(x=100, y=306.5, z=0.5)))\n",
    "print(ego_vehicle)\n",
    "\n",
    "ego_vehicle.action(accera, steer)"
   ]
  },
  {
   "cell_type": "code",
   "execution_count": 198,
   "id": "384f0a54-bbc0-46ee-9645-96fd46bfe9bf",
   "metadata": {},
   "outputs": [],
   "source": [
    "lead_vehicle = world.get_blueprint_library().find('vehicle.mercedes.coupe')\n",
    "lead_vehicle = world.spawn_actor(lead_vehicle, carla.Transform(carla.Location(x=110, y=306.5, z=0.5)))"
   ]
  },
  {
   "cell_type": "code",
   "execution_count": 69,
   "id": "297435be-68fb-4eda-9e55-d46df85372dc",
   "metadata": {},
   "outputs": [],
   "source": [
    "# Get the map's spawn points\n",
    "spawn_points = world.get_map().get_spawn_points()\n",
    "\n",
    "# Spawn 50 vehicles randomly distributed throughout the map \n",
    "# for each spawn point, we choose a random vehicle from the blueprint library\n",
    "for i in range(0,50):\n",
    "    world.try_spawn_actor(random.choice(vehicle_blueprints), random.choice(spawn_points))"
   ]
  },
  {
   "cell_type": "code",
   "execution_count": 70,
   "id": "34b0ecbd-c67d-45e1-bc02-1af9a18842b2",
   "metadata": {},
   "outputs": [
    {
     "name": "stdout",
     "output_type": "stream",
     "text": [
      "Transform(Location(x=-7.530000, y=270.729980, z=0.500000), Rotation(pitch=0.000000, yaw=89.999954, roll=0.000000))\n"
     ]
    }
   ],
   "source": [
    "print(spawn_points[1])"
   ]
  },
  {
   "cell_type": "markdown",
   "id": "25080932-4cf2-41c7-8bcc-b2b657fc1f0f",
   "metadata": {},
   "source": [
    "## Add sensors"
   ]
  },
  {
   "cell_type": "code",
   "execution_count": 199,
   "id": "94f85a77-3de1-4133-8320-84d52d4ecd94",
   "metadata": {},
   "outputs": [],
   "source": [
    "# We create the camera through a blueprint that defines its properties\n",
    "camera_bp = world.get_blueprint_library().find('sensor.camera.rgb')\n",
    "camera_bp.set_attribute('image_size_x', '1280')\n",
    "camera_bp.set_attribute('image_size_y', '720')\n",
    "camera_bp.set_attribute('fov', '110')\n",
    "# Set the time in seconds between sensor captures\n",
    "camera_bp.set_attribute('sensor_tick', '1.0')\n",
    "\n",
    "# Create a transform to place the camera on top of the vehicle\n",
    "camera_init_trans = carla.Transform(carla.Location(x=0.8, z=1.5))\n",
    "camera = world.spawn_actor(camera_bp, camera_init_trans, attach_to=ego_vehicle)"
   ]
  },
  {
   "cell_type": "code",
   "execution_count": 10,
   "id": "3d1f989d-7dba-4f95-a8b4-b839cf3d4d83",
   "metadata": {},
   "outputs": [],
   "source": [
    "# We create the camera through a blueprint that defines its properties\n",
    "depth_camera_bp = world.get_blueprint_library().find('sensor.camera.depth')\n",
    "depth_camera_bp.set_attribute('image_size_x', '1280')\n",
    "depth_camera_bp.set_attribute('image_size_y', '720')\n",
    "depth_camera_bp.set_attribute('fov', '110')\n",
    "# Set the time in seconds between sensor captures\n",
    "depth_camera_bp.set_attribute('sensor_tick', '1.0')\n",
    "\n",
    "# Create a transform to place the camera on top of the vehicle\n",
    "depth_camera_init_trans = carla.Transform(carla.Location(x=0.8, z=1.5))\n",
    "depth_camera = world.spawn_actor(depth_camera_bp, depth_camera_init_trans, attach_to=ego_vehicle)"
   ]
  },
  {
   "cell_type": "markdown",
   "id": "e0a62f82-bd5d-41e4-b6b6-996e6f83c398",
   "metadata": {},
   "source": [
    "## Animate vehicles\n"
   ]
  },
  {
   "cell_type": "code",
   "execution_count": 11,
   "id": "221b9aad-8cd4-42e8-9ba3-b11dc33d85a3",
   "metadata": {},
   "outputs": [],
   "source": [
    "for vehicle in world.get_actors().filter('*vehicle*'):\n",
    "    vehicle.set_autopilot(True)"
   ]
  },
  {
   "cell_type": "markdown",
   "id": "d0a3f3eb-bfc6-4075-8346-9500aa48afca",
   "metadata": {},
   "source": [
    "## Collect Data"
   ]
  },
  {
   "cell_type": "code",
   "execution_count": 13,
   "id": "92715928-9d85-43c2-96d0-020ee456840b",
   "metadata": {},
   "outputs": [],
   "source": [
    "data_collection = True"
   ]
  },
  {
   "cell_type": "code",
   "execution_count": 16,
   "id": "71ab8069-ab75-40a8-85b5-4e7f96698195",
   "metadata": {},
   "outputs": [],
   "source": [
    "data_collection = False"
   ]
  },
  {
   "cell_type": "code",
   "execution_count": 12,
   "id": "677bfb1b-0f5c-4d61-9bd3-9ba247ad3158",
   "metadata": {},
   "outputs": [],
   "source": [
    "camera = world.get_actors().filter('*sensor.camera.rgb*')[0]\n",
    "depth_camera = world.get_actors().filter('*sensor.camera.depth*')[0]"
   ]
  },
  {
   "cell_type": "code",
   "execution_count": 14,
   "id": "3eae07bb-f062-46ad-8680-044790f952eb",
   "metadata": {},
   "outputs": [],
   "source": [
    "camera.listen(lambda image: car_control(distance_estimation(image)))"
   ]
  },
  {
   "cell_type": "code",
   "execution_count": 15,
   "id": "a6583d2c-5ae5-4131-94af-6ffc388fc2cb",
   "metadata": {},
   "outputs": [],
   "source": [
    "depth_camera.listen(lambda image: image.save_to_disk('out/%06d.png' % image.frame) if data_collection else 0)"
   ]
  },
  {
   "cell_type": "code",
   "execution_count": null,
   "id": "cd3b6104-b42a-4378-b58f-852121f7d4eb",
   "metadata": {},
   "outputs": [],
   "source": []
  },
  {
   "cell_type": "markdown",
   "id": "a3287394-9083-43f9-971a-b851d615c50d",
   "metadata": {},
   "source": [
    "## Manual Control Demo"
   ]
  },
  {
   "cell_type": "code",
   "execution_count": null,
   "id": "e7fa2b49-a2c1-4d0a-922c-3cb7ac361889",
   "metadata": {},
   "outputs": [],
   "source": []
  }
 ],
 "metadata": {
  "kernelspec": {
   "display_name": "Python 3 (ipykernel)",
   "language": "python",
   "name": "python3"
  },
  "language_info": {
   "codemirror_mode": {
    "name": "ipython",
    "version": 3
   },
   "file_extension": ".py",
   "mimetype": "text/x-python",
   "name": "python",
   "nbconvert_exporter": "python",
   "pygments_lexer": "ipython3",
   "version": "3.8.19"
  }
 },
 "nbformat": 4,
 "nbformat_minor": 5
}
