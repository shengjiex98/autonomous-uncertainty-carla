{
 "cells": [
  {
   "cell_type": "markdown",
   "id": "bc45ff0c-69a4-4c79-a072-5edff62e278e",
   "metadata": {},
   "source": [
    "# Uncertainty in Autonomous Systems\n",
    "Testing uncertainty in autonomous systems using the Carla simulator."
   ]
  },
  {
   "cell_type": "markdown",
   "id": "4d595faf-d988-417f-bb42-e43a782839d1",
   "metadata": {},
   "source": [
    "## Connect to Carla server"
   ]
  },
  {
   "cell_type": "code",
   "execution_count": 2,
   "id": "8276e6e8-7a79-4241-8b1a-310adc0b3f00",
   "metadata": {},
   "outputs": [],
   "source": [
    "import carla\n",
    "import random"
   ]
  },
  {
   "cell_type": "code",
   "execution_count": 10,
   "id": "1f8b7d9a-31ac-4c0a-9677-c217dffcf6b1",
   "metadata": {},
   "outputs": [],
   "source": [
    "# Connect to the Carla server. IP address below are used because of WSL2 networking.\n",
    "client = carla.Client('172.22.112.1', 2000)\n",
    "world = client.get_world()"
   ]
  },
  {
   "cell_type": "markdown",
   "id": "619bf5b3-f264-4f10-ab5b-e0945677bb9d",
   "metadata": {},
   "source": [
    "## Manipulate environment"
   ]
  },
  {
   "cell_type": "code",
   "execution_count": 14,
   "id": "f7d82cad-5d37-4a2e-8e05-48f914852308",
   "metadata": {},
   "outputs": [
    {
     "data": {
      "text/plain": [
       "<carla.libcarla.World at 0x7fc7a0166e40>"
      ]
     },
     "execution_count": 14,
     "metadata": {},
     "output_type": "execute_result"
    }
   ],
   "source": [
    "client.load_world('Town01')"
   ]
  },
  {
   "cell_type": "code",
   "execution_count": 22,
   "id": "d915c431-7bbe-40d3-acdc-2aaa3f2a7fc0",
   "metadata": {},
   "outputs": [],
   "source": [
    "# Retrieve the spectator object\n",
    "spectator = world.get_spectator()\n",
    "\n",
    "# Get the location and rotation of the spectator through its transform\n",
    "transform = spectator.get_transform()\n",
    "\n",
    "location = transform.location\n",
    "rotation = transform.rotation\n",
    "\n",
    "# Set the spectator with an empty transform\n",
    "spectator.set_transform(carla.Transform())\n",
    "# This will set the spectator at the origin of the map, with 0 degrees\n",
    "# pitch, yaw and roll - a good way to orient yourself in the map"
   ]
  },
  {
   "cell_type": "markdown",
   "id": "bda74794-5711-4779-b926-07d9f7a99464",
   "metadata": {},
   "source": [
    "## Add actors"
   ]
  },
  {
   "cell_type": "code",
   "execution_count": 38,
   "id": "aca9e092-3af4-4bb8-94c6-e5fba30bd4a6",
   "metadata": {},
   "outputs": [
    {
     "name": "stdout",
     "output_type": "stream",
     "text": [
      "ActorBlueprint(id=vehicle.audi.a2,tags=[a2, audi, vehicle])\n",
      "ActorBlueprint(id=vehicle.citroen.c3,tags=[c3, citroen, vehicle])\n",
      "ActorBlueprint(id=vehicle.chevrolet.impala,tags=[impala, chevrolet, vehicle])\n",
      "ActorBlueprint(id=vehicle.dodge.charger_police_2020,tags=[charger_police_2020, dodge, vehicle])\n",
      "ActorBlueprint(id=vehicle.micro.microlino,tags=[microlino, micro, vehicle])\n"
     ]
    }
   ],
   "source": [
    "# Get the blueprint library and filter for the vehicle blueprints\n",
    "vehicle_blueprints = world.get_blueprint_library().filter('*vehicle*')\n",
    "\n",
    "# Show a few examples from the list\n",
    "print(*list(vehicle_blueprints)[0:5], sep='\\n')"
   ]
  },
  {
   "cell_type": "code",
   "execution_count": 27,
   "id": "297435be-68fb-4eda-9e55-d46df85372dc",
   "metadata": {},
   "outputs": [],
   "source": [
    "# Get the map's spawn points\n",
    "spawn_points = world.get_map().get_spawn_points()\n",
    "\n",
    "# Spawn 50 vehicles randomly distributed throughout the map \n",
    "# for each spawn point, we choose a random vehicle from the blueprint library\n",
    "for i in range(0,50):\n",
    "    world.try_spawn_actor(random.choice(vehicle_blueprints), random.choice(spawn_points))"
   ]
  },
  {
   "cell_type": "code",
   "execution_count": 39,
   "id": "2615b126-8a86-41d0-a029-0adbd9caad7c",
   "metadata": {},
   "outputs": [],
   "source": [
    "# Add the ego vehicle, which will be the centerpoint of the simulation\n",
    "ego_vehicle = world.spawn_actor(random.choice(vehicle_blueprints), random.choice(spawn_points))"
   ]
  },
  {
   "cell_type": "code",
   "execution_count": 43,
   "id": "883bad57-c448-43bd-9a20-b55121bdec3e",
   "metadata": {},
   "outputs": [
    {
     "name": "stdout",
     "output_type": "stream",
     "text": [
      "Transform(Location(x=338.979980, y=226.750000, z=0.003931), Rotation(pitch=0.000000, yaw=-90.000267, roll=0.000000))\n"
     ]
    }
   ],
   "source": [
    "print(ego_vehicle.get_transform())\n",
    "spectator.set_transform(ego_vehicle.get_transform())"
   ]
  },
  {
   "cell_type": "markdown",
   "id": "25080932-4cf2-41c7-8bcc-b2b657fc1f0f",
   "metadata": {},
   "source": [
    "## Add sensors"
   ]
  },
  {
   "cell_type": "code",
   "execution_count": 40,
   "id": "94f85a77-3de1-4133-8320-84d52d4ecd94",
   "metadata": {},
   "outputs": [],
   "source": [
    "# Create a transform to place the camera on top of the vehicle\n",
    "camera_init_trans = carla.Transform(carla.Location(z=1.5))\n",
    "\n",
    "# We create the camera through a blueprint that defines its properties\n",
    "camera_bp = world.get_blueprint_library().find('sensor.camera.rgb')\n",
    "\n",
    "# We spawn the camera and attach it to our ego vehicle\n",
    "camera = world.spawn_actor(camera_bp, camera_init_trans, attach_to=ego_vehicle)"
   ]
  }
 ],
 "metadata": {
  "kernelspec": {
   "display_name": "Python 3 (ipykernel)",
   "language": "python",
   "name": "python3"
  },
  "language_info": {
   "codemirror_mode": {
    "name": "ipython",
    "version": 3
   },
   "file_extension": ".py",
   "mimetype": "text/x-python",
   "name": "python",
   "nbconvert_exporter": "python",
   "pygments_lexer": "ipython3",
   "version": "3.8.19"
  }
 },
 "nbformat": 4,
 "nbformat_minor": 5
}
